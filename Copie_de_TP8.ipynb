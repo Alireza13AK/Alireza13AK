{
  "cells": [
    {
      "cell_type": "markdown",
      "metadata": {
        "id": "JWkf2weR0V4g"
      },
      "source": [
        "# <font color=green>APR - Travaux Pratiques n°8.</font>\n",
        "\n",
        "> **Ce sujet est en lien avec le quatrième chapitre du cours, et concerne la programmation CUDA. Les mêmes commentaires que ceux des derniers TP s’appliquent ici aussi.**\n",
        ">\n",
        "> **En imagerie numérique, l'égalisation d'histogramme est une méthode d'ajustement du contraste d'une image donnée (cf. http://en.wikipedia.org/wiki/Histogram_equalization). Pour une image en niveaux de gris, l'idée est de calculer un histogramme comptant l'utilisation de chaque niveau de gris, de calculer la fonction de répartition de cet histogramme, puis d'étaler les niveaux de gris utilisés.**\n",
        ">\n",
        "> **Plus précisément, soit $\\left\\{x_i\\right\\}$ l'ensemble des pixels d'une image définie sur $L$ niveaux de gris. L'histogramme est un tableau comptant les occurrences de chaque niveau de gris noté $l$, pour $l\\in\\left[0\\ldots L-1\\right]$ : $$h\\left(l\\right)=\\sum_{i=0}^{n-1}\\delta\\left(x_i-l\\right),$$ où $n$ est le nombre de pixels de l'image, et $\\delta$ est la fonction de Dirac telle que : $$\\delta\\left(\\xi\\right)=\\left\\{\\begin{matrix}1\\mathrm{\\ si\\ }\\xi=0,\\\\0\\mathrm{\\ sinon.}\\\\\\end{matrix}\\right. $$**\n",
        ">\n",
        "> **La fonction de répartition $r$ est définie sur l'intervalle des niveaux de gris comme la somme des nombres d'occurrence des valeurs précédentes :**\n",
        "$$r\\left(l\\right)=\\sum_{k=0}^{l}h\\left(k\\right).$$\n",
        ">\n",
        "> **Eh oui, c’est une somme préfixe, donc un SCAN inclusif ! La transformation suivante permet « d’étaler » l'histogramme :**\n",
        "$$\n",
        "T\\left(x_i\\right)=\\frac{L-1}{n}r\\left(x_i\\right).\n",
        "$$\n",
        ">\n",
        "> **Cette méthode est étendue aux images couleurs en appliquant cette transformation sur la composante « intensité » (V) de la couleur exprimée dans le repère HSV : Hue (Teinte), Saturation et Value (cf. http://en.wikipedia.org/wiki/HSL_and_HSV). Avec des images 24 bits, la valeur s’exprime sur 1 octet ; donc L vaut 256 (et L-1=255).**\n",
        ">\n",
        "> **Nous allons jouer avec l’implantation de l’histogramme et le scan inclusif.**\n",
        ">\n",
        "> **<font color=pink>N'oubliez d'exécuter les quatre premières cellules de code afin d'installer l'extension CUDA et de vérifier son bon fonctionnement.</font>**\n",
        "\n",
        "## <font color=green>Installation du sous-sytème</font>"
      ]
    },
    {
      "cell_type": "code",
      "source": [
        "# Ne lancer que si vous avez des problèmes du genre \"the provided PTX was compiled with an unsupported toolchain..\"\n",
        "!sudo apt update 2>&1 > /dev/null\n",
        "!sudo apt remove --autoremove -y --allow-change-held-packages cuda-toolkit-config-common cuda-toolkit-12-config-common cuda-toolkit-12-*-config-common libcublas-12-* libcublas-dev-12-* 2>&1 > /dev/null\n",
        "!sudo apt list | grep cuda-toolkit\n",
        "!sudo apt install -y cuda-toolkit-12-0-config-common cuda-nvcc-12-0 2>&1 > /dev/null"
      ],
      "metadata": {
        "id": "gY7Smazrsb61"
      },
      "execution_count": null,
      "outputs": []
    },
    {
      "cell_type": "code",
      "execution_count": null,
      "metadata": {
        "id": "4NuCP18Hj2kM"
      },
      "outputs": [],
      "source": [
        "# vérifions l'installation du SDK Cuda ...\n",
        "!/usr/local/cuda/bin/nvcc --version"
      ]
    },
    {
      "cell_type": "code",
      "execution_count": null,
      "metadata": {
        "id": "h3LoyZjGkHyw"
      },
      "outputs": [],
      "source": [
        "# Installons gdown pour charger fichier depuis Google Drive\n",
        "!pip install --upgrade --no-cache-dir gdown &> /dev/null\n",
        "# importation Python pour charger/afficher des images\n",
        "from google.colab.patches import cv2_imshow\n",
        "import cv2\n",
        "import numpy as np\n",
        "\n",
        "\n",
        "def afficher(file, width):\n",
        "  img = cv2.imread(file)\n",
        "  height = int(img.shape[0] * width / float(img.shape[1]))\n",
        "  resized = cv2.resize(img, (width, height), interpolation = cv2.INTER_AREA)\n",
        "  cv2_imshow(resized)\n",
        "\n",
        "\n",
        "def afficher3(file, width, extension):\n",
        "  img = cv2.imread(file+\".ppm\")\n",
        "  height = int(img.shape[0] * width / float(img.shape[1]))\n",
        "  resizedOrig = cv2.resize(img, (width, height), interpolation = cv2.INTER_AREA)\n",
        "  img = cv2.imread(file+\"_equalized_\"+extension+\"_reference.ppm\")\n",
        "  resizedRef = cv2.resize(img, (width, height), interpolation = cv2.INTER_AREA)\n",
        "  img = cv2.imread(file+\"_equalized_\"+extension+\".ppm\")\n",
        "  resizedResult = cv2.resize(img, (width, height), interpolation = cv2.INTER_AREA)\n",
        "  cv2_imshow(np.hstack((resizedOrig, resizedRef, resizedResult)))"
      ]
    },
    {
      "cell_type": "markdown",
      "metadata": {
        "id": "uhLcqRBK1i_R"
      },
      "source": [
        "---\n",
        "# <font color=green>TP</font>\n",
        "> L'installation s'est bien déroulée ? Parfait, maintenant au travail !\n",
        ">\n",
        "> En premier, il faut charger le TP8 depuis le drive Google ... Vous pouvez charger ce fichier (*i.e.* le premier, le second contient des images) sur votre ordinateur pour étudiez les interfaces, bien que la plupart soient dans le cours ...\n"
      ]
    },
    {
      "cell_type": "code",
      "execution_count": null,
      "metadata": {
        "id": "KBqMci_YlFND"
      },
      "outputs": [],
      "source": [
        "# Chargeons le TP8\n",
        "!gdown https://drive.google.com/uc?id=1LdDZmQEh0rH7kaQmDTsmpRbMafP8AXan\n",
        "!unzip -oqq TP8.zip\n",
        "!ls TP8/Images"
      ]
    },
    {
      "cell_type": "markdown",
      "metadata": {
        "id": "hOU55HQNlIS4"
      },
      "source": [
        "\n",
        ">\n",
        "> Le code du TP est dans le répertoire TP8. Vous pouvez le vérifier dans une cellule en tapant \" !ls TP8\" par exemple ...\n",
        ">\n",
        "> Nous démarrons avec l'exercice 1.\n",
        "---\n",
        "## <font color=green>Exercice 1</font>\n",
        ">\n",
        "> **Implémentez la fonction `rgb2hsv` qui, pour chaque pixel de l'image, calcule sa valeur dans l'espace HSV en utilisant la fonction `RGB2HSV`, et répartit le résultat dans trois tableaux différents. Notez qu'il s'agit d'une forme de SCATTER. Ce type de répartition en trois tableaux vise à optimiser le débit mémoire d'un kernel CUDA (encore la coalescence).**\n",
        ">\n",
        "> **Implémentez la transformation inverse (`hsv2rgb`), de HSV vers RGB, en utilisant la fonction `HSV2RGB`.**\n",
        "**\n",
        ">\n",
        "> ### <font color=green>Partie étudiante</font>\n",
        ">\n",
        "> La partie ci-dessous est pour vous. Répondez à l'exercice dans la cellule suivante.\n",
        ">\n",
        "> Pour sauvegarder, n'oubliez pas de terminer par \"Shift-Entrée\" ...\n",
        ">\n",
        "> **<font color=pink>Attention : ne touchez pas à la première ligne !</font>**"
      ]
    },
    {
      "cell_type": "code",
      "execution_count": null,
      "metadata": {
        "id": "EJiE3XyhoG3V"
      },
      "outputs": [],
      "source": [
        "%%writefile TP8/student/exo1/student.cu\n",
        "#include <iostream>\n",
        "#include <exo1/student.h>\n",
        "#include <OPP_cuda.cuh>\n",
        "#include <float.h>\n",
        "\n",
        "namespace\n",
        "{\n",
        "\t__device__\n",
        "\tfloat3 RGB2HSV( const uchar3 inRGB ) {\n",
        "\t\tconst float R = float( inRGB.x ) / 256.f;\n",
        "\t\tconst float G = float( inRGB.y ) / 256.f;\n",
        "\t\tconst float B = float( inRGB.z ) / 256.f;\n",
        "\n",
        "\t\tconst float min\t\t= fminf( R, fminf( G, B ) );\n",
        "\t\tconst float max\t\t= fmaxf( R, fmaxf( G, B ) );\n",
        "\t\tconst float delta\t= max - min;\n",
        "\n",
        "\t\t// H\n",
        "\t\tfloat H;\n",
        "\t\tif\t\t( delta < FLT_EPSILON )\n",
        "\t\t\tH = 0.f;\n",
        "\t\telse if\t( max == R )\n",
        "\t\t\tH = 60.f * ( G - B ) / ( delta + FLT_EPSILON ) + 360.f;\n",
        "\t\telse if ( max == G )\n",
        "\t\t\tH = 60.f * ( B - R ) / ( delta + FLT_EPSILON ) + 120.f;\n",
        "\t\telse\n",
        "\t\t\tH = 60.f * ( R - G ) / ( delta + FLT_EPSILON ) + 240.f;\n",
        "\t\twhile\t( H >= 360.f )\n",
        "\t\t\tH -= 360.f ;\n",
        "\n",
        "\t\t// S\n",
        "\t\tconst float S = max < FLT_EPSILON ? 0.f : 1.f - min / max;\n",
        "\n",
        "\t\t// V\n",
        "\t\tconst float V = max;\n",
        "\n",
        "\t\treturn make_float3( H, S, V*256.f );\n",
        "\t}\n",
        "\n",
        "\t__device__\n",
        "\tuchar3 HSV2RGB( const float H, const float S, const float V ) {\n",
        "\t\tconst float\td\t= H / 60.f;\n",
        "\t\tconst int\thi\t= int(d) % 6;\n",
        "\t\tconst float f\t= d - float(hi);\n",
        "\n",
        "\t\tconst float Vn = V / 256.f;\n",
        "\t\tconst float l   = Vn * ( 1.f - S );\n",
        "\t\tconst float m\t= Vn * ( 1.f - f * S );\n",
        "\t\tconst float n\t= Vn * ( 1.f - ( 1.f - f ) * S );\n",
        "\n",
        "\t\tfloat R, G, B;\n",
        "\n",
        "\t\tif\t\t( hi == 0 )\n",
        "\t\t\t{ R = Vn; G = n;\tB = l; }\n",
        "\t\telse if ( hi == 1 )\n",
        "\t\t\t{ R = m; G = Vn;\tB = l; }\n",
        "\t\telse if ( hi == 2 )\n",
        "\t\t\t{ R = l; G = Vn;\tB = n; }\n",
        "\t\telse if ( hi == 3 )\n",
        "\t\t\t{ R = l; G = m;\tB = Vn; }\n",
        "\t\telse if ( hi == 4 )\n",
        "\t\t\t{ R = n; G = l;\tB = Vn; }\n",
        "\t\telse\n",
        "\t\t\t{ R = Vn; G = l;\tB = m; }\n",
        "\n",
        "\t\treturn make_uchar3( R * 256.f, G * 256.f, B * 256.f );\n",
        "\t}\n",
        "\n",
        "\t__global__\n",
        "\tvoid RGB2HSV_kernel(\n",
        "\t\tuchar3 const*const source,\n",
        "\t\tfloat *const Hue,\n",
        "\t\tfloat *const Saturation,\n",
        "\t\tfloat *const Value,\n",
        "\t\tconst unsigned size\n",
        "\t) {\n",
        "\t\tconst unsigned tid = threadIdx.x + blockIdx.x * blockDim.x;\n",
        "\t\tif( tid < size )\n",
        "\t\t{\n",
        "\t\t\tfloat3 hsv( RGB2HSV(source[tid]) );\n",
        "\t\t\tHue[tid] = hsv.x;\n",
        "\t\t\tSaturation[tid] = hsv.y;\n",
        "\t\t\tValue[tid] = hsv.z;\n",
        "\t\t}\n",
        "\t}\n",
        "\n",
        "\t__global__\n",
        "\tvoid HSV2RGB_kernel(\n",
        "\t\tfloat const*const Hue,\n",
        "\t\tfloat const*const Saturation,\n",
        "\t\tfloat const*const Value,\n",
        "\t\tuchar3 *const result,\n",
        "\t\tconst unsigned size\n",
        "\t) {\n",
        "\t\tconst unsigned tid = threadIdx.x + blockIdx.x * blockDim.x;\n",
        "\t\tif( tid < size )\n",
        "\t\t{\n",
        "\t\t\tresult[tid] = HSV2RGB(Hue[tid], Saturation[tid], Value[tid]);\n",
        "\t\t}\n",
        "\t}\n",
        "}\n",
        "\n",
        "void StudentWorkImpl::run_RGB2HSV(\n",
        "\tOPP::CUDA::DeviceBuffer<uchar3>& dev_source,\n",
        "\tOPP::CUDA::DeviceBuffer<float>& dev_Hue,\n",
        "\tOPP::CUDA::DeviceBuffer<float>& dev_Saturation,\n",
        "\tOPP::CUDA::DeviceBuffer<float>& dev_Value,\n",
        "\tconst unsigned width,\n",
        "\tconst unsigned height\n",
        ") {\n",
        "\tconst unsigned fullsize = width * height ;\n",
        "\tconst unsigned threads(1024);\n",
        "\tconst unsigned blocksize = (fullsize + threads - 1) / threads;\n",
        "\n",
        "\tRGB2HSV_kernel<<<blocksize,threads>>>(\n",
        "\t\tdev_source.getDevicePointer(),\n",
        "\t\tdev_Hue.getDevicePointer(),\n",
        "\t\tdev_Saturation.getDevicePointer(),\n",
        "\t\tdev_Value.getDevicePointer(),\n",
        "\t\tfullsize);\n",
        "\n",
        "\t\tcudaDeviceSynchronize();\n",
        "}\n",
        "\n",
        "void StudentWorkImpl::run_HSV2RGB(\n",
        "\tOPP::CUDA::DeviceBuffer<float>& dev_Hue,\n",
        "\tOPP::CUDA::DeviceBuffer<float>& dev_Saturation,\n",
        "\tOPP::CUDA::DeviceBuffer<float>& dev_Value,\n",
        "\tOPP::CUDA::DeviceBuffer<uchar3>& dev_result,\n",
        "\tconst unsigned width,\n",
        "\tconst unsigned height\n",
        ") {\n",
        "\t// TODO: map\n",
        "\tconst unsigned fullsize =  width * height;\n",
        "\tconst unsigned threads(1024);\n",
        "\tconst unsigned nbblock = (fullsize + threads - 1) / threads;\n",
        "\n",
        "\tHSV2RGB_kernel<<<blocksize,threads>>>(\n",
        "\t\tdev_Hue.getDevicePointer(),\n",
        "\t\tdev_Saturation.getDevicePointer(),\n",
        "\t\tdev_Value.getDevicePointer(),\n",
        "\t\tdev_result.getDevicePointer(),\n",
        "\t\tfullsize);\n",
        "\n",
        "\t\tcudaDeviceSynchronize();\n",
        "}"
      ]
    },
    {
      "cell_type": "markdown",
      "metadata": {
        "id": "asx9OVL27puT"
      },
      "source": [
        "> ### <font color=green>Compilation</font>\n",
        "> Exécutez la cellule suivante pour compiler le code ..."
      ]
    },
    {
      "cell_type": "code",
      "execution_count": null,
      "metadata": {
        "id": "AP1UEc7h7zHg"
      },
      "outputs": [],
      "source": [
        "!cd TP8 && sh ./build.sh exo1"
      ]
    },
    {
      "cell_type": "markdown",
      "metadata": {
        "id": "w-UVrk2KUaYd"
      },
      "source": [
        "> ### <font color=green>Exécution</font>\n",
        "> Exécutez la cellule suivante pour exécuter le code ..."
      ]
    },
    {
      "cell_type": "code",
      "execution_count": null,
      "metadata": {
        "id": "R_ulfYuX-Y_F"
      },
      "outputs": [],
      "source": [
        "# launch student work\n",
        "!./TP8/linux/exo1 -i=TP8/Images/Nuit.ppm\n",
        "# display input image\n",
        "print(\"\\nInput image is:\")\n",
        "afficher(file=\"TP8/Images/Nuit.ppm\", width=600)\n",
        "# display result\n",
        "print(\"\\nYour result is:\")\n",
        "afficher(file=\"TP8/Images/Nuit_RGB2HSV2RGB.ppm\", width = 600)"
      ]
    },
    {
      "cell_type": "markdown",
      "metadata": {
        "id": "pvbHriSPmCIr"
      },
      "source": [
        "## <font color=green>Exercice 2</font>\n",
        "\n",
        "> **Calculez l’histogramme des valeurs $h(l)$.**\n",
        ">\n",
        "> ### <font color=green>Partie étudiante</font>\n",
        ">\n",
        "> La partie ci-dessous est pour vous. Répondez à l'exercice dans la cellule suivante.\n",
        ">\n",
        "> Pour sauvegarder, n'oubliez pas de terminer par \"Shift-Entrée\" ...\n",
        ">\n",
        "> **<font color=pink>Attention : ne touchez pas à la première ligne !</font>**\n"
      ]
    },
    {
      "cell_type": "code",
      "execution_count": null,
      "metadata": {
        "id": "QwCPhpdKU8tp"
      },
      "outputs": [],
      "source": [
        "%%writefile TP8/student/exo2/student.cu\n",
        "#include <iostream>\n",
        "#include <exo2/student.h>\n",
        "#include <OPP_cuda.cuh>\n",
        "\n",
        "namespace\n",
        "{\n",
        "  struct convert{\n",
        "    __device__\n",
        "        unsigned operator()(const float& i) const {\n",
        "            return static_cast<unsigned>(i);\n",
        "        }\n",
        "  };\n",
        "}\n",
        "\n",
        "void StudentWorkImpl::run_Histogram(\n",
        "\tOPP::CUDA::DeviceBuffer<float>& dev_value,\n",
        "\tOPP::CUDA::DeviceBuffer<unsigned>& dev_histogram,\n",
        "\tconst unsigned width,\n",
        "\tconst unsigned height\n",
        ") {\n",
        "  OPP::CUDA::computeHistogram<float, unsigned, convert>(dev_value, dev_histogram, convert());\n",
        "  cudaDeviceSynchronize();\n",
        "}"
      ]
    },
    {
      "cell_type": "markdown",
      "metadata": {
        "id": "pIHRCxc7o-a0"
      },
      "source": [
        "> ### <font color=green>Compilation</font>\n",
        "> Exécutez la cellule suivante pour compiler le code ..."
      ]
    },
    {
      "cell_type": "code",
      "execution_count": null,
      "metadata": {
        "id": "Oh257QTWpE9S"
      },
      "outputs": [],
      "source": [
        "#!cat TP8/utils/OPP/OPP_cuda_histogram.cuh\n",
        "!cd TP8 ; sh ./build.sh exo2"
      ]
    },
    {
      "cell_type": "markdown",
      "metadata": {
        "id": "ZBSA6TMVpl-i"
      },
      "source": [
        "> ### <font color=green>Exécution</font>\n",
        "> Exécutez les cellules suivantes pour exécuter le code (avec les images pré-chargées) ..."
      ]
    },
    {
      "cell_type": "code",
      "execution_count": null,
      "metadata": {
        "id": "EJFYweIipnzF"
      },
      "outputs": [],
      "source": [
        "# launch student work\n",
        "!cd ./TP8 && ./linux/exo2 -i=./Images/Nuit.ppm"
      ]
    },
    {
      "cell_type": "code",
      "execution_count": null,
      "metadata": {
        "id": "zTi8FfgxptDp"
      },
      "outputs": [],
      "source": [
        "# launch student work\n",
        "!cd TP8 && linux/exo2 -i=./Images/Roy_Lichtenstein_Drowning_Girl.ppm"
      ]
    },
    {
      "cell_type": "code",
      "execution_count": null,
      "metadata": {
        "id": "0K9pT0ItsRgl"
      },
      "outputs": [],
      "source": [
        "# launch student work\n",
        "!cd TP8 && linux/exo2 -i=./Images/The_Nightwatch_by_Rembrandt.ppm"
      ]
    },
    {
      "cell_type": "markdown",
      "metadata": {
        "id": "FHZtnN_Lwnqi"
      },
      "source": [
        "## <font color=green>Exercice 3</font>\n",
        "\n",
        "> **Calculez la fonction de répartition $r(l)$.**\n",
        ">\n",
        "> ### <font color=green>Partie étudiante</font>\n",
        ">\n",
        "> La partie ci-dessous est pour vous. Répondez à l'exercice dans la cellule suivante.\n",
        ">\n",
        "> Pour sauvegarder, n'oubliez pas de terminer par \"Shift-Entrée\" ...\n",
        ">\n",
        "> **<font color=pink>Attention : ne touchez pas à la première ligne !</font>**\n"
      ]
    },
    {
      "cell_type": "code",
      "execution_count": null,
      "metadata": {
        "id": "0dzelQtXtY6V"
      },
      "outputs": [],
      "source": [
        "%%writefile TP8/student/exo3/student.cu\n",
        "#include <iostream>\n",
        "#include <exo3/student.h>\n",
        "#include <OPP_cuda.cuh>\n",
        "\n",
        "namespace\n",
        "{\n",
        "}\n",
        "\n",
        "void StudentWorkImpl::run_Repartition(\n",
        "\tOPP::CUDA::DeviceBuffer<unsigned>& dev_histogram,\n",
        "\tOPP::CUDA::DeviceBuffer<unsigned>& dev_repartition\n",
        ") {\n",
        "\t// TODO\n",
        "\tOPP::CUDA::inclusiveScan<unsigned,OPP::CUDA::Plus<unsigned>>(dev_histogram,dev_repartition,OPP::CUDA::Plus<unsigned>());\n",
        "}"
      ]
    },
    {
      "cell_type": "markdown",
      "metadata": {
        "id": "YvoDexC8wGDT"
      },
      "source": [
        "> ### <font color=green>Compilation</font>\n",
        "> Exécutez la cellule suivante pour compiler le code ..."
      ]
    },
    {
      "cell_type": "code",
      "execution_count": null,
      "metadata": {
        "id": "SVGYZqY_wevx"
      },
      "outputs": [],
      "source": [
        "!cd TP8 ; sh ./build.sh exo3"
      ]
    },
    {
      "cell_type": "markdown",
      "metadata": {
        "id": "cwF8WIwjxLKk"
      },
      "source": [
        "> ### <font color=green>Exécution</font>\n",
        "> Exécutez les cellules suivantes pour exécuter le code (avec les images pré-chargées) ..."
      ]
    },
    {
      "cell_type": "code",
      "execution_count": null,
      "metadata": {
        "id": "xuUA69WExFDo"
      },
      "outputs": [],
      "source": [
        "# launch student work\n",
        "!cd TP8 && linux/exo3 -i=./Images/Nuit.ppm"
      ]
    },
    {
      "cell_type": "code",
      "execution_count": null,
      "metadata": {
        "id": "LjqmynVPx_Vu"
      },
      "outputs": [],
      "source": [
        "# launch student work\n",
        "!cd TP8 && linux/exo3 -i=./Images/Roy_Lichtenstein_Drowning_Girl.ppm"
      ]
    },
    {
      "cell_type": "code",
      "execution_count": null,
      "metadata": {
        "id": "fZywCVQEyI8H"
      },
      "outputs": [],
      "source": [
        "# launch student work\n",
        "!cd TP8 && linux/exo3 -i=./Images/The_Nightwatch_by_Rembrandt.ppm"
      ]
    },
    {
      "cell_type": "markdown",
      "metadata": {
        "id": "zeO6fOD4yyXZ"
      },
      "source": [
        "## <font color=green>Exercice 4</font>\n",
        "\n",
        "> **Calculez la transformation finale $T(x_i)$.**\n",
        ">\n",
        "> **Admirez.**\n",
        ">\n",
        "> **Comme toujours, votre rapport doit discuter les performances en fonctions des nombres de threads et de leur répartition.**\n",
        ">\n",
        "> ### <font color=green>Partie étudiante</font>\n",
        ">\n",
        "> La partie ci-dessous est pour vous. Répondez à l'exercice dans la cellule suivante.\n",
        ">\n",
        "> Pour sauvegarder, n'oubliez pas de terminer par \"Shift-Entrée\" ...\n",
        ">\n",
        "> **<font color=pink>Attention : ne touchez pas à la première ligne !</font>**"
      ]
    },
    {
      "cell_type": "code",
      "execution_count": null,
      "metadata": {
        "id": "-JxKmfOJyY1-"
      },
      "outputs": [],
      "source": [
        "%%writefile TP8/student/exo4/student.cu\n",
        "#include <iostream>\n",
        "#include <exo4/student.h>\n",
        "#include <OPP_cuda.cuh>\n",
        "\n",
        "namespace\n",
        "{\n",
        "\t__global__\n",
        "\t\tvoid transform(const float* const v , const unsigned* const r,float* const t , const unsigned size){\n",
        "\t\t\tconst unsigned tid = blockIdx.x * blockDim.x + threadIdx.x;\n",
        "\n",
        "\t\t\tif(tid < size){\n",
        "\t\t\t\tconst unsigned char convert =static_cast<unsigned char>(v[tid]);\n",
        "\n",
        "\t\t\t\tt[tid] = (255.f * static_cast<float>(r[convert])) / static_cast<float>(size);\n",
        "\t\t\t}\n",
        "\t\t}\n",
        "}\n",
        "\n",
        "void StudentWorkImpl::run_Transformation(\n",
        "\tOPP::CUDA::DeviceBuffer<float>& dev_Value,\n",
        "\tOPP::CUDA::DeviceBuffer<unsigned>& dev_repartition,\n",
        "\tOPP::CUDA::DeviceBuffer<float>& dev_transformation // or \"transformed\"\n",
        ") {\n",
        "\t// TODO\n",
        "\tconst unsigned nbthreads(1024);\n",
        "\tconst unsigned size = dev_Value.getNbElements();\n",
        "\n",
        "\tconst dim3 threads(nbthreads);\n",
        "\tconst dim3 nbBlocs((size + nbthreads -1) / nbthreads);\n",
        "\n",
        "\ttransform<<<nbBlocs,threads>>>(\n",
        "\t\t\tdev_Value.getDevicePointer(),\n",
        "\t\t\tdev_repartition.getDevicePointer(),\n",
        "\t\t\tdev_transformation.getDevicePointer(),\n",
        "\t\t\tsize\n",
        "\n",
        "\t);\n",
        "\n",
        "}\n",
        "\n",
        "bool StudentWorkImpl::isImplemented() const { return true; }"
      ]
    },
    {
      "cell_type": "markdown",
      "metadata": {
        "id": "0zT2GUWczFbK"
      },
      "source": [
        "> ### <font color=green>Compilation</font>\n",
        "> Exécutez la cellule suivante pour compiler le code ..."
      ]
    },
    {
      "cell_type": "code",
      "execution_count": null,
      "metadata": {
        "id": "2S81nJcEzD3b"
      },
      "outputs": [],
      "source": [
        "!cd TP8 ; sh ./build.sh exo4"
      ]
    },
    {
      "cell_type": "markdown",
      "metadata": {
        "id": "TS9cfqN7zUy2"
      },
      "source": [
        "> ### <font color=green>Exécution</font>\n",
        "> Exécutez les cellules suivantes pour exécuter le code (avec les images pré-chargées) ..."
      ]
    },
    {
      "cell_type": "code",
      "execution_count": null,
      "metadata": {
        "id": "brbWIFLDgIuS"
      },
      "outputs": [],
      "source": [
        "# launch student work\n",
        "!cd TP8 && linux/exo4 -i=./Images/Hopper.railroad.ppm\n",
        "# width = mettez une largeur en fonction de votre bande passante Internet\n",
        "afficher3(file=\"TP8/Images/Hopper.railroad\", width=400, extension=\"HE\")"
      ]
    },
    {
      "cell_type": "code",
      "execution_count": null,
      "metadata": {
        "id": "_7EA6ClagSnS"
      },
      "outputs": [],
      "source": [
        "# launch student work\n",
        "!cd TP8 && linux/exo4 -i=./Images/Nuit.ppm\n",
        "# width = mettez une largeur en fonction de votre bande passante Internet\n",
        "afficher3(file=\"TP8/Images/Nuit\", width=400, extension=\"HE\")"
      ]
    },
    {
      "cell_type": "code",
      "execution_count": null,
      "metadata": {
        "id": "8Yj9y-N4gS2k"
      },
      "outputs": [],
      "source": [
        "# launch student work\n",
        "!cd TP8 && linux/exo4 -i=./Images/Paris.ppm\n",
        "# width = mettez une largeur en fonction de votre bande passante Internet\n",
        "afficher3(file=\"TP8/Images/Paris\", width=400, extension=\"HE\")"
      ]
    },
    {
      "cell_type": "code",
      "execution_count": null,
      "metadata": {
        "id": "Kjvt9SDagTTa"
      },
      "outputs": [],
      "source": [
        "# launch student work\n",
        "!cd TP8 && linux/exo4 -i=./Images/Roy_Lichtenstein_Drowning_Girl.ppm\n",
        "# width = mettez une largeur en fonction de votre bande passante Internet\n",
        "afficher3(file=\"TP8/Images/Roy_Lichtenstein_Drowning_Girl\", width=400, extension=\"HE\")"
      ]
    },
    {
      "cell_type": "code",
      "execution_count": null,
      "metadata": {
        "id": "4JCYXRjtgTXr"
      },
      "outputs": [],
      "source": [
        "# launch student work\n",
        "!cd TP8 && linux/exo4 -i=./Images/SunFlowers.ppm\n",
        "# width = mettez une largeur en fonction de votre bande passante Internet\n",
        "afficher3(file=\"TP8/Images/SunFlowers\", width=400, extension=\"HE\")"
      ]
    },
    {
      "cell_type": "code",
      "execution_count": null,
      "metadata": {
        "id": "OrodmHrQgTa4"
      },
      "outputs": [],
      "source": [
        "# launch student work\n",
        "!cd TP8 && linux/exo4 -i=./Images/The_Nightwatch_by_Rembrandt.ppm\n",
        "# width = mettez une largeur en fonction de votre bande passante Internet\n",
        "afficher3(file=\"TP8/Images/The_Nightwatch_by_Rembrandt\", width=400, extension=\"HE\")"
      ]
    },
    {
      "cell_type": "code",
      "execution_count": null,
      "metadata": {
        "id": "g1NbU7dNgUkL"
      },
      "outputs": [],
      "source": [
        "# launch student work\n",
        "!./TP8/linux/exo4 -i=TP8/Images/Unequalized_Hawkes_Bay_NZ.ppm\n",
        "# width = mettez une largeur en fonction de votre bande passante Internet\n",
        "afficher3(file=\"TP8/Images/Unequalized_Hawkes_Bay_NZ\", width=400, extension=\"HE\")"
      ]
    },
    {
      "cell_type": "markdown",
      "metadata": {
        "id": "SwnbLIv9trlX"
      },
      "source": [
        "## <font color=green>Exercice 5</font>\n",
        "\n",
        "> **Implantez la version AHE décrite dans la section III.A, équation 6, de l’article suivant :**\n",
        ">\n",
        "> <a href=\"https://perso.telecom-paristech.fr/angelini/SI241/papers_for_project/test.pdf\">T. Arici, S. Dikbas, and Y. Altunbasak, A histogram modification framework and its application for image contrast enhancement, IEEE Trans. Image Process., vol. 18, no. 9, pp. 1921–1935, Sep. 2009.</a>\n",
        ">\n",
        "> **Expliquez les choix ayant conduit à votre implantation de cette méthode.**\n",
        ">\n",
        "> **Notez ici que la transformation de l’histogramme, si elle était directement implantée avant le calcul de la fonction de répartition en utilisant des entiers, donnerait des erreurs numériques importantes. Pour éviter cela, il vous est demandé d’appliquer l’équation (6) à la volée lors de la transformation finale de la valeur V de chaque pixel. Cela est rendu possible, car l’équation (6) n’est ni plus ni moins qu’une application linéaire (et donc s’applique aussi bien sur les deux fonctions de répartition résultant des deux histogrammes $h$ et $u$).**\n",
        ">\n",
        "> **Notez enfin que pour $\\lambda=0$ vous retrouvez l’algorithme HE…**"
      ]
    },
    {
      "cell_type": "markdown",
      "metadata": {
        "id": "sKrkIOo5trlY"
      },
      "source": [
        "\n",
        ">\n",
        "> ### <font color=green>Partie étudiante</font>\n",
        ">\n",
        "> La partie ci-dessous est pour vous. Répondez à l'exercice dans la cellule suivante.\n",
        ">\n",
        "> Pour sauvegarder, n'oubliez pas de terminer par \"Shift-Entrée\" ...\n",
        ">\n",
        "> **<font color=pink>Attention : ne touchez pas à la première ligne !</font>**"
      ]
    },
    {
      "cell_type": "code",
      "execution_count": null,
      "metadata": {
        "id": "3mJ32uaGtrlY"
      },
      "outputs": [],
      "source": [
        "%%writefile TP8/student/exo5/student.cu\n",
        "#include <iostream>\n",
        "#include <exo5/student.h>\n",
        "#include <OPP_cuda.cuh>\n",
        "\n",
        "namespace\n",
        "{\n",
        "\t\t__global__\n",
        "\t\tvoid transform(const float lambda,const float* const v , const unsigned* const r,float* const t , const unsigned size){\n",
        "\t\t\tconst unsigned tid = blockIdx.x * blockDim.x + threadIdx.x;\n",
        "\n",
        "\t\t\tif(tid < size){\n",
        "\t\t\t\tconst unsigned char convert =static_cast<unsigned char>(v[tid]);\n",
        "\n",
        "\t\t\tconst float lambdaComplement = 1 / (1 + lambda);\n",
        "      const float histogramValue = static_cast<float>(r[convert]);\n",
        "      const float lambdaRatio = lambda / (1 + lambda);\n",
        "      const float sizeRatio = static_cast<float>(size) * static_cast<float>(convert) / 256;\n",
        "\n",
        "\t\t\t\tt[tid] = (255.f * ( (lambdaComplement * histogramValue) + (lambdaRatio * sizeRatio) )) / static_cast<float>(size);\n",
        "\t\t\t}\n",
        "\n",
        "\n",
        "\t\t}\n",
        "}\n",
        "\n",
        "void StudentWorkImpl::run_Transformation(\n",
        "\tconst float lambda, // value to use in equation (6)\n",
        "\tOPP::CUDA::DeviceBuffer<float>& dev_Value,\n",
        "\tOPP::CUDA::DeviceBuffer<unsigned>& dev_repartition,\n",
        "\tOPP::CUDA::DeviceBuffer<float>& dev_transformation // or \"transformed\"\n",
        ") {\n",
        "\t// TODO: a map\n",
        "\t// NB: equation (6) is applied on the fly to the transformed value...\n",
        "\n",
        "\tconst unsigned nbthreads(1024);\n",
        "\tconst unsigned size = dev_Value.getNbElements();\n",
        "\n",
        "\tconst dim3 threads(nbthreads);\n",
        "\tconst dim3 nbBlocs((size + nbthreads -1) / nbthreads);\n",
        "\n",
        "\ttransform<<<nbBlocs,threads>>>(\n",
        "\t\t\tlambda,\n",
        "\t\t\tdev_Value.getDevicePointer(),\n",
        "\t\t\tdev_repartition.getDevicePointer(),\n",
        "\t\t\tdev_transformation.getDevicePointer(),\n",
        "\t\t\tsize\n",
        "\n",
        "\t);\n",
        "}"
      ]
    },
    {
      "cell_type": "markdown",
      "metadata": {
        "id": "vqZfHrkitrlZ"
      },
      "source": [
        "> ### <font color=green>Compilation</font>\n",
        "> Exécutez la cellule suivante pour compiler le code ..."
      ]
    },
    {
      "cell_type": "code",
      "execution_count": null,
      "metadata": {
        "id": "iJVgThNjtrlZ"
      },
      "outputs": [],
      "source": [
        "!cd TP8 ; sh ./build.sh exo5"
      ]
    },
    {
      "cell_type": "markdown",
      "metadata": {
        "id": "d6aw388xtrlZ"
      },
      "source": [
        "> ### <font color=green>Exécution</font>\n",
        "> Exécutez les cellules suivantes pour exécuter le code (avec les images pré-chargées) ..."
      ]
    },
    {
      "cell_type": "code",
      "execution_count": null,
      "metadata": {
        "id": "kXc6U6Ditrla"
      },
      "outputs": [],
      "source": [
        "# launch student work\n",
        "!./TP8/linux/exo5 -i=TP8/Images/Hopper.railroad.ppm -l=1\n",
        "# width = mettez une largeur en fonction de votre bande passante Internet\n",
        "afficher3(file=\"TP8/Images/Hopper.railroad\", width=400, extension=\"AHE\")"
      ]
    },
    {
      "cell_type": "code",
      "execution_count": null,
      "metadata": {
        "id": "VGr9yCratrla"
      },
      "outputs": [],
      "source": [
        "# launch student work\n",
        "!./TP8/linux/exo5 -i=TP8/Images/Nuit.ppm -l=1\n",
        "# width = mettez une largeur en fonction de votre bande passante Internet\n",
        "afficher3(file=\"TP8/Images/Nuit\", width=400, extension=\"AHE\")"
      ]
    },
    {
      "cell_type": "code",
      "execution_count": null,
      "metadata": {
        "id": "BWFhuhhMtrla"
      },
      "outputs": [],
      "source": [
        "# launch student work\n",
        "!./TP8/linux/exo5 -i=TP8/Images/Paris.ppm -l=1\n",
        "# width = mettez une largeur en fonction de votre bande passante Internet\n",
        "afficher3(file=\"TP8/Images/Paris\", width=400, extension=\"AHE\")"
      ]
    },
    {
      "cell_type": "code",
      "execution_count": null,
      "metadata": {
        "id": "ehomQiBXtrlb"
      },
      "outputs": [],
      "source": [
        "# launch student work\n",
        "!./TP8/linux/exo5 -i=TP8/Images/Roy_Lichtenstein_Drowning_Girl.ppm -l=1\n",
        "# width = mettez une largeur en fonction de votre bande passante Internet\n",
        "afficher3(file=\"TP8/Images/Roy_Lichtenstein_Drowning_Girl\", width=400, extension=\"AHE\")"
      ]
    },
    {
      "cell_type": "code",
      "execution_count": null,
      "metadata": {
        "id": "oUzNcmN-trlb"
      },
      "outputs": [],
      "source": [
        "# launch student work\n",
        "!./TP8/linux/exo5 -i=TP8/Images/SunFlowers.ppm -l=1\n",
        "# width = mettez une largeur en fonction de votre bande passante Internet\n",
        "afficher3(file=\"TP8/Images/SunFlowers\", width=400, extension=\"AHE\")"
      ]
    },
    {
      "cell_type": "code",
      "execution_count": null,
      "metadata": {
        "id": "Iv6MVq8Gtrlc"
      },
      "outputs": [],
      "source": [
        "# launch student work\n",
        "!./TP8/linux/exo5 -i=TP8/Images/The_Nightwatch_by_Rembrandt.ppm -l=1\n",
        "# width = mettez une largeur en fonction de votre bande passante Internet\n",
        "afficher3(file=\"TP8/Images/The_Nightwatch_by_Rembrandt\", width=400, extension=\"AHE\")"
      ]
    },
    {
      "cell_type": "code",
      "execution_count": null,
      "metadata": {
        "id": "H8QaXnJ6trlc"
      },
      "outputs": [],
      "source": [
        "# launch student work\n",
        "!./TP8/linux/exo5 -i=TP8/Images/Unequalized_Hawkes_Bay_NZ.ppm -l=1\n",
        "# width = mettez une largeur en fonction de votre bande passante Internet\n",
        "afficher3(file=\"TP8/Images/Unequalized_Hawkes_Bay_NZ\", width=400, extension=\"AHE\")"
      ]
    },
    {
      "cell_type": "markdown",
      "metadata": {
        "id": "fdZx-Jdltrld"
      },
      "source": [
        "## <font color=green>Exercice 6</font>\n",
        ">\n",
        "> **Implantez la version WHE décrite section III.C de l’article vu dans l’exercice précédent (équation 12). Notez ici que dans l’article la phrase « the average local variance of pixels with gray-level i », doit être lue pour des images en couleur en remplaçant « niveau de gris » par « valeur ».**\n",
        ">\n",
        "> **Une erreur classique sur le calcul de la variance est de considérer comme correcte la formule suivante :**\n",
        ">\n",
        "> $$\\sigma^2=\\frac{1}{n}\\sum\\left(x_i-\\bar{X}\\right)^2$$\n",
        ">\n",
        "> **où $\\bar{X}$ est la moyenne empirique :**\n",
        ">\n",
        "> $$\\bar{X}=\\frac{1}{n}\\sum x_i.$$\n",
        ">\n",
        "> **Cette formulation de la variance est correcte en théorie, mais en utilisant des données réelles (comme le voisinage d’un pixel) alors cette formule est celle dite de la variance empirique. Or, cette variance empirique est biaisée… Pour corriger ce défaut, il faut utiliser la formulation suivante :**\n",
        ">\n",
        "> $$\\widetilde{\\sigma^2}=\\frac{n}{n-1}\\sigma^2=\\frac{1}{n-1}\\sum\\left(x_i-\\bar{X}\\right)^2.$$\n",
        ">\n",
        "> **Une petite subtilité concerne encore le calcul de la variance, celle locale aux pixels de chaque valeur $V$ dans l’algorithme AHE. Sachant que ces variances seront ensuite moyennées pour chaque valeur $V$, une possibilité est de la calculer localement avec deux pixels seulement : le pixel $X$ en position $\\left(row,col\\right)$ de valeur $V$, et le pixel $Y$ en position $\\left(row,col+2\\right)$ par exemple et de valeur $V_y$. Ce procédé évite un calcul coûteux dans une fenêtre autour de $X$ qui serait d’une taille à définir. Cette solution explique pourquoi la fonction à coder ne reçoit pas de taille de fenêtre de calcul de la variance locale.**\n",
        ">\n",
        "> **Dans le rapport, expliquez le calcul de la variance locale que vous effectuez.**\n",
        ">\n",
        "> **Notez ici que la fonction à coder doit réaliser tout le traitement à appliquer sur la valeur $V$ de chaque pixel : d’abord le calcul de l’histogramme et de la moyenne des variances locales, puis la transformation de l’histogramme, le calcul de la fonction de répartition et enfin l’application de la transformation…**"
      ]
    },
    {
      "cell_type": "markdown",
      "metadata": {
        "id": "gDFnjROztrld"
      },
      "source": [
        "> ### <font color=green>Partie étudiante</font>\n",
        ">\n",
        "> La partie ci-dessous est pour vous. Répondez à l'exercice dans la cellule suivante.\n",
        ">\n",
        "> Pour sauvegarder, n'oubliez pas de terminer par \"Shift-Entrée\" ...\n",
        ">\n",
        "> **<font color=pink>Attention : ne touchez pas à la première ligne !</font>**"
      ]
    },
    {
      "cell_type": "code",
      "execution_count": null,
      "metadata": {
        "id": "QwJ4s0lPtrld"
      },
      "outputs": [],
      "source": [
        "%%writefile TP8/student/exo6/student.cu\n",
        "#include <exo6/student.h>\n",
        "\n",
        "#include <OPP_cuda.cuh>\n",
        "#include <algorithm>\n",
        "#include <cuda.h>\n",
        "#include <iostream>\n",
        "#include <type_traits>\n",
        "\n",
        "namespace {\n",
        "\n",
        "  /**\n",
        "   * @brief print a device buffer on standard output\n",
        "   *\n",
        "   * @tparam T Datatype of the data stored into the DeviceDuffer\n",
        "   * @param msg Message to display first (before the data)\n",
        "   * @param deviceBuffer Contains the data to display\n",
        "   */\n",
        "  template <typename T>\n",
        "  void print(std::string &msg, OPP::CUDA::DeviceBuffer<T> &deviceBuffer)\n",
        "  {\n",
        "    const auto size = deviceBuffer.getNbElements();\n",
        "    std::vector<T> hostVector(size);\n",
        "    deviceBuffer.copyToHost(hostVector.data());\n",
        "    std::cout << \"======= \" << msg << \" of size \" << size << \" =====\\n\";\n",
        "    for (unsigned i{0u}; i < size; ++i) {\n",
        "      std::cout << hostVector[i] << \" \";\n",
        "      if ((i % 16u) == 15u) {\n",
        "        std::cout << \"\\n\";\n",
        "      }\n",
        "    }\n",
        "  }\n",
        "\n",
        "  void buildHistogramAndVarianceSum(OPP::CUDA::DeviceBuffer<float> &dev_inputValue,\n",
        "                                    OPP::CUDA::DeviceBuffer<unsigned> &dev_cdf,\n",
        "                                    OPP::CUDA::DeviceBuffer<float> &dev_weight,\n",
        "                                    const unsigned imageWidth)\n",
        "  {\n",
        "    // TODO\n",
        "  }\n",
        "\n",
        "  void buildCumulativeDistributionFunction(OPP::CUDA::DeviceBuffer<unsigned> &dev_cdf,\n",
        "                                           OPP::CUDA::DeviceBuffer<float> &dev_weight,\n",
        "                                           const float lambda,\n",
        "                                           const unsigned size)\n",
        "  {\n",
        "    // TODO\n",
        "  }\n",
        "\n",
        "  void applyTransformation(OPP::CUDA::DeviceBuffer<float> &dev_inputValue,\n",
        "                           OPP::CUDA::DeviceBuffer<unsigned> &dev_cdf,\n",
        "                           OPP::CUDA::DeviceBuffer<float> &dev_outputValue)\n",
        "  {\n",
        "    // TODO\n",
        "  }\n",
        "} // namespace\n",
        "\n",
        "void StudentWorkImpl::run_WHE(OPP::CUDA::DeviceBuffer<float> &dev_inputValue,\n",
        "                              OPP::CUDA::DeviceBuffer<unsigned> &dev_histo,\n",
        "                              OPP::CUDA::DeviceBuffer<float> &dev_weight,\n",
        "                              OPP::CUDA::DeviceBuffer<float> &dev_outputValue,\n",
        "                              const unsigned imageWidth,\n",
        "                              const unsigned imageHeight,\n",
        "                              const float lambda)\n",
        "{\n",
        "  // 1. calcul par valeur dans [0..255] de l'histogramme ET de la somme des variances/valeur\n",
        "  ::buildHistogramAndVarianceSum(dev_inputValue, dev_histo, dev_weight, imageWidth);\n",
        "\n",
        "  // ::print(std::string(\"histo\"), dev_histo); // for debug, if needed\n",
        "  // ::print(std::string(\"weight\"), dev_weight); // for debug, if needed\n",
        "\n",
        "  // 2. calcul de la CDF (dans histo pour économiser de la mémoire)\n",
        "  ::buildCumulativeDistributionFunction(dev_histo, dev_weight, lambda, imageWidth * imageHeight);\n",
        "\n",
        "  // 3. application de la transformation...\n",
        "  ::applyTransformation(dev_inputValue, dev_histo, dev_outputValue);\n",
        "}"
      ]
    },
    {
      "cell_type": "markdown",
      "metadata": {
        "id": "UtGd4ZXktrle"
      },
      "source": [
        "> ### <font color=green>Compilation</font>\n",
        "> Exécutez la cellule suivante pour compiler le code ..."
      ]
    },
    {
      "cell_type": "code",
      "execution_count": null,
      "metadata": {
        "id": "ERykB2eutrle"
      },
      "outputs": [],
      "source": [
        "!cd TP8 ; sh ./build.sh exo6"
      ]
    },
    {
      "cell_type": "markdown",
      "metadata": {
        "id": "gHUJR_86trlf"
      },
      "source": [
        "> ### <font color=green>Exécution</font>\n",
        "> Exécutez les cellules suivantes pour exécuter le code (avec les images pré-chargées) ..."
      ]
    },
    {
      "cell_type": "code",
      "execution_count": null,
      "metadata": {
        "id": "onmpWhrAtrlf"
      },
      "outputs": [],
      "source": [
        "# launch student work\n",
        "!./TP8/linux/exo6 -i=TP8/Images/Hopper.railroad.ppm -l=1\n",
        "# width = mettez une largeur en fonction de votre bande passante Internet\n",
        "afficher3(file=\"TP8/Images/Hopper.railroad\", width=400, extension=\"WHE\")"
      ]
    },
    {
      "cell_type": "code",
      "execution_count": null,
      "metadata": {
        "id": "GIzO8xBvtrlf"
      },
      "outputs": [],
      "source": [
        "# launch student work\n",
        "!./TP8/linux/exo6 -i=TP8/Images/Nuit.ppm -l=1\n",
        "# width = mettez une largeur en fonction de votre bande passante Internet\n",
        "afficher3(file=\"TP8/Images/Nuit\", width=400, extension=\"WHE\")"
      ]
    },
    {
      "cell_type": "code",
      "execution_count": null,
      "metadata": {
        "id": "2w2b_CFQtrlg"
      },
      "outputs": [],
      "source": [
        "# launch student work\n",
        "!./TP8/linux/exo6 -i=TP8/Images/Paris.ppm -l=1\n",
        "# width = mettez une largeur en fonction de votre bande passante Internet\n",
        "afficher3(file=\"TP8/Images/Paris\", width=400, extension=\"WHE\")"
      ]
    },
    {
      "cell_type": "code",
      "execution_count": null,
      "metadata": {
        "id": "qLF20jIKtrlg"
      },
      "outputs": [],
      "source": [
        "# launch student work\n",
        "!./TP8/linux/exo6 -i=TP8/Images/Roy_Lichtenstein_Drowning_Girl.ppm -l=1\n",
        "# width = mettez une largeur en fonction de votre bande passante Internet\n",
        "afficher3(file=\"TP8/Images/Roy_Lichtenstein_Drowning_Girl\", width=400, extension=\"WHE\")"
      ]
    },
    {
      "cell_type": "code",
      "execution_count": null,
      "metadata": {
        "id": "P_ICA1aqtrlg"
      },
      "outputs": [],
      "source": [
        "# launch student work\n",
        "!./TP8/linux/exo6 -i=TP8/Images/SunFlowers.ppm -l=1\n",
        "# width = mettez une largeur en fonction de votre bande passante Internet\n",
        "afficher3(file=\"TP8/Images/SunFlowers\", width=400, extension=\"WHE\")"
      ]
    },
    {
      "cell_type": "code",
      "execution_count": null,
      "metadata": {
        "id": "VyF5A5eWtrlh"
      },
      "outputs": [],
      "source": [
        "# launch student work\n",
        "!./TP8/linux/exo6 -i=TP8/Images/The_Nightwatch_by_Rembrandt.ppm -l=10\n",
        "# width = mettez une largeur en fonction de votre bande passante Internet\n",
        "afficher3(file=\"TP8/Images/The_Nightwatch_by_Rembrandt\", width=400, extension=\"WHE\")"
      ]
    },
    {
      "cell_type": "code",
      "execution_count": null,
      "metadata": {
        "id": "V0OWNfdjtrlh"
      },
      "outputs": [],
      "source": [
        "# launch student work\n",
        "!./TP8/linux/exo6 -i=TP8/Images/Unequalized_Hawkes_Bay_NZ.ppm -l=1\n",
        "# width = mettez une largeur en fonction de votre bande passante Internet\n",
        "afficher3(file=\"TP8/Images/Unequalized_Hawkes_Bay_NZ\", width=400, extension=\"WHE\")"
      ]
    },
    {
      "cell_type": "code",
      "source": [
        "from google.colab import files\n",
        "u = files.upload()\n",
        "print(u)"
      ],
      "metadata": {
        "id": "JwxFEmjvXFfb"
      },
      "execution_count": null,
      "outputs": []
    },
    {
      "cell_type": "code",
      "source": [
        "files.download('TP8')"
      ],
      "metadata": {
        "id": "xHotBM3aaMjI"
      },
      "execution_count": null,
      "outputs": []
    },
    {
      "cell_type": "markdown",
      "metadata": {
        "id": "zZiGcbya2TwT"
      },
      "source": [
        "# <font color=green>That's all, folks!</font>"
      ]
    }
  ],
  "metadata": {
    "accelerator": "GPU",
    "colab": {
      "private_outputs": true,
      "provenance": []
    },
    "kernelspec": {
      "display_name": "Python 3",
      "name": "python3"
    }
  },
  "nbformat": 4,
  "nbformat_minor": 0
}